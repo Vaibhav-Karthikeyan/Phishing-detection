{
  "cells": [
    {
      "cell_type": "code",
      "execution_count": null,
      "metadata": {
        "id": "C297HhYulXcb"
      },
      "outputs": [],
      "source": [
        "import pandas as pd\n",
        "import numpy as np\n",
        "import seaborn as sns\n",
        "import matplotlib.pyplot as plt"
      ]
    },
    {
      "cell_type": "code",
      "execution_count": null,
      "metadata": {
        "colab": {
          "base_uri": "https://localhost:8080/",
          "height": 270
        },
        "id": "fVPglpaf4REa",
        "outputId": "d85d862b-fadd-4133-ee5c-3ea547aee42f"
      },
      "outputs": [
        {
          "output_type": "execute_result",
          "data": {
            "text/plain": [
              "             Domain  Have_IP  Have_At  URL_Length  URL_Depth  Redirection  \\\n",
              "0  graphicriver.net        0        0           1          1            0   \n",
              "1         ecnavi.jp        0        0           1          1            1   \n",
              "2      hubpages.com        0        0           1          1            0   \n",
              "3   extratorrent.cc        0        0           1          3            0   \n",
              "4     icicibank.com        0        0           1          3            0   \n",
              "\n",
              "   https_Domain  TinyURL  Prefix/Suffix  DNS_Record  Web_Traffic  Domain_Age  \\\n",
              "0             0        0              0           0            1           1   \n",
              "1             0        0              0           0            1           1   \n",
              "2             0        0              0           0            1           0   \n",
              "3             0        0              0           0            1           0   \n",
              "4             0        0              0           0            1           0   \n",
              "\n",
              "   Domain_End  iFrame  Mouse_Over  Right_Click  Web_Forwards  Label  \n",
              "0           1       0           0            1             0      0  \n",
              "1           1       0           0            1             0      0  \n",
              "2           1       0           0            1             0      0  \n",
              "3           1       0           0            1             0      0  \n",
              "4           1       0           0            1             0      0  "
            ],
            "text/html": [
              "\n",
              "  <div id=\"df-04dba894-ec25-4249-8f09-c0416cf53366\">\n",
              "    <div class=\"colab-df-container\">\n",
              "      <div>\n",
              "<style scoped>\n",
              "    .dataframe tbody tr th:only-of-type {\n",
              "        vertical-align: middle;\n",
              "    }\n",
              "\n",
              "    .dataframe tbody tr th {\n",
              "        vertical-align: top;\n",
              "    }\n",
              "\n",
              "    .dataframe thead th {\n",
              "        text-align: right;\n",
              "    }\n",
              "</style>\n",
              "<table border=\"1\" class=\"dataframe\">\n",
              "  <thead>\n",
              "    <tr style=\"text-align: right;\">\n",
              "      <th></th>\n",
              "      <th>Domain</th>\n",
              "      <th>Have_IP</th>\n",
              "      <th>Have_At</th>\n",
              "      <th>URL_Length</th>\n",
              "      <th>URL_Depth</th>\n",
              "      <th>Redirection</th>\n",
              "      <th>https_Domain</th>\n",
              "      <th>TinyURL</th>\n",
              "      <th>Prefix/Suffix</th>\n",
              "      <th>DNS_Record</th>\n",
              "      <th>Web_Traffic</th>\n",
              "      <th>Domain_Age</th>\n",
              "      <th>Domain_End</th>\n",
              "      <th>iFrame</th>\n",
              "      <th>Mouse_Over</th>\n",
              "      <th>Right_Click</th>\n",
              "      <th>Web_Forwards</th>\n",
              "      <th>Label</th>\n",
              "    </tr>\n",
              "  </thead>\n",
              "  <tbody>\n",
              "    <tr>\n",
              "      <th>0</th>\n",
              "      <td>graphicriver.net</td>\n",
              "      <td>0</td>\n",
              "      <td>0</td>\n",
              "      <td>1</td>\n",
              "      <td>1</td>\n",
              "      <td>0</td>\n",
              "      <td>0</td>\n",
              "      <td>0</td>\n",
              "      <td>0</td>\n",
              "      <td>0</td>\n",
              "      <td>1</td>\n",
              "      <td>1</td>\n",
              "      <td>1</td>\n",
              "      <td>0</td>\n",
              "      <td>0</td>\n",
              "      <td>1</td>\n",
              "      <td>0</td>\n",
              "      <td>0</td>\n",
              "    </tr>\n",
              "    <tr>\n",
              "      <th>1</th>\n",
              "      <td>ecnavi.jp</td>\n",
              "      <td>0</td>\n",
              "      <td>0</td>\n",
              "      <td>1</td>\n",
              "      <td>1</td>\n",
              "      <td>1</td>\n",
              "      <td>0</td>\n",
              "      <td>0</td>\n",
              "      <td>0</td>\n",
              "      <td>0</td>\n",
              "      <td>1</td>\n",
              "      <td>1</td>\n",
              "      <td>1</td>\n",
              "      <td>0</td>\n",
              "      <td>0</td>\n",
              "      <td>1</td>\n",
              "      <td>0</td>\n",
              "      <td>0</td>\n",
              "    </tr>\n",
              "    <tr>\n",
              "      <th>2</th>\n",
              "      <td>hubpages.com</td>\n",
              "      <td>0</td>\n",
              "      <td>0</td>\n",
              "      <td>1</td>\n",
              "      <td>1</td>\n",
              "      <td>0</td>\n",
              "      <td>0</td>\n",
              "      <td>0</td>\n",
              "      <td>0</td>\n",
              "      <td>0</td>\n",
              "      <td>1</td>\n",
              "      <td>0</td>\n",
              "      <td>1</td>\n",
              "      <td>0</td>\n",
              "      <td>0</td>\n",
              "      <td>1</td>\n",
              "      <td>0</td>\n",
              "      <td>0</td>\n",
              "    </tr>\n",
              "    <tr>\n",
              "      <th>3</th>\n",
              "      <td>extratorrent.cc</td>\n",
              "      <td>0</td>\n",
              "      <td>0</td>\n",
              "      <td>1</td>\n",
              "      <td>3</td>\n",
              "      <td>0</td>\n",
              "      <td>0</td>\n",
              "      <td>0</td>\n",
              "      <td>0</td>\n",
              "      <td>0</td>\n",
              "      <td>1</td>\n",
              "      <td>0</td>\n",
              "      <td>1</td>\n",
              "      <td>0</td>\n",
              "      <td>0</td>\n",
              "      <td>1</td>\n",
              "      <td>0</td>\n",
              "      <td>0</td>\n",
              "    </tr>\n",
              "    <tr>\n",
              "      <th>4</th>\n",
              "      <td>icicibank.com</td>\n",
              "      <td>0</td>\n",
              "      <td>0</td>\n",
              "      <td>1</td>\n",
              "      <td>3</td>\n",
              "      <td>0</td>\n",
              "      <td>0</td>\n",
              "      <td>0</td>\n",
              "      <td>0</td>\n",
              "      <td>0</td>\n",
              "      <td>1</td>\n",
              "      <td>0</td>\n",
              "      <td>1</td>\n",
              "      <td>0</td>\n",
              "      <td>0</td>\n",
              "      <td>1</td>\n",
              "      <td>0</td>\n",
              "      <td>0</td>\n",
              "    </tr>\n",
              "  </tbody>\n",
              "</table>\n",
              "</div>\n",
              "      <button class=\"colab-df-convert\" onclick=\"convertToInteractive('df-04dba894-ec25-4249-8f09-c0416cf53366')\"\n",
              "              title=\"Convert this dataframe to an interactive table.\"\n",
              "              style=\"display:none;\">\n",
              "        \n",
              "  <svg xmlns=\"http://www.w3.org/2000/svg\" height=\"24px\"viewBox=\"0 0 24 24\"\n",
              "       width=\"24px\">\n",
              "    <path d=\"M0 0h24v24H0V0z\" fill=\"none\"/>\n",
              "    <path d=\"M18.56 5.44l.94 2.06.94-2.06 2.06-.94-2.06-.94-.94-2.06-.94 2.06-2.06.94zm-11 1L8.5 8.5l.94-2.06 2.06-.94-2.06-.94L8.5 2.5l-.94 2.06-2.06.94zm10 10l.94 2.06.94-2.06 2.06-.94-2.06-.94-.94-2.06-.94 2.06-2.06.94z\"/><path d=\"M17.41 7.96l-1.37-1.37c-.4-.4-.92-.59-1.43-.59-.52 0-1.04.2-1.43.59L10.3 9.45l-7.72 7.72c-.78.78-.78 2.05 0 2.83L4 21.41c.39.39.9.59 1.41.59.51 0 1.02-.2 1.41-.59l7.78-7.78 2.81-2.81c.8-.78.8-2.07 0-2.86zM5.41 20L4 18.59l7.72-7.72 1.47 1.35L5.41 20z\"/>\n",
              "  </svg>\n",
              "      </button>\n",
              "      \n",
              "  <style>\n",
              "    .colab-df-container {\n",
              "      display:flex;\n",
              "      flex-wrap:wrap;\n",
              "      gap: 12px;\n",
              "    }\n",
              "\n",
              "    .colab-df-convert {\n",
              "      background-color: #E8F0FE;\n",
              "      border: none;\n",
              "      border-radius: 50%;\n",
              "      cursor: pointer;\n",
              "      display: none;\n",
              "      fill: #1967D2;\n",
              "      height: 32px;\n",
              "      padding: 0 0 0 0;\n",
              "      width: 32px;\n",
              "    }\n",
              "\n",
              "    .colab-df-convert:hover {\n",
              "      background-color: #E2EBFA;\n",
              "      box-shadow: 0px 1px 2px rgba(60, 64, 67, 0.3), 0px 1px 3px 1px rgba(60, 64, 67, 0.15);\n",
              "      fill: #174EA6;\n",
              "    }\n",
              "\n",
              "    [theme=dark] .colab-df-convert {\n",
              "      background-color: #3B4455;\n",
              "      fill: #D2E3FC;\n",
              "    }\n",
              "\n",
              "    [theme=dark] .colab-df-convert:hover {\n",
              "      background-color: #434B5C;\n",
              "      box-shadow: 0px 1px 3px 1px rgba(0, 0, 0, 0.15);\n",
              "      filter: drop-shadow(0px 1px 2px rgba(0, 0, 0, 0.3));\n",
              "      fill: #FFFFFF;\n",
              "    }\n",
              "  </style>\n",
              "\n",
              "      <script>\n",
              "        const buttonEl =\n",
              "          document.querySelector('#df-04dba894-ec25-4249-8f09-c0416cf53366 button.colab-df-convert');\n",
              "        buttonEl.style.display =\n",
              "          google.colab.kernel.accessAllowed ? 'block' : 'none';\n",
              "\n",
              "        async function convertToInteractive(key) {\n",
              "          const element = document.querySelector('#df-04dba894-ec25-4249-8f09-c0416cf53366');\n",
              "          const dataTable =\n",
              "            await google.colab.kernel.invokeFunction('convertToInteractive',\n",
              "                                                     [key], {});\n",
              "          if (!dataTable) return;\n",
              "\n",
              "          const docLinkHtml = 'Like what you see? Visit the ' +\n",
              "            '<a target=\"_blank\" href=https://colab.research.google.com/notebooks/data_table.ipynb>data table notebook</a>'\n",
              "            + ' to learn more about interactive tables.';\n",
              "          element.innerHTML = '';\n",
              "          dataTable['output_type'] = 'display_data';\n",
              "          await google.colab.output.renderOutput(dataTable, element);\n",
              "          const docLink = document.createElement('div');\n",
              "          docLink.innerHTML = docLinkHtml;\n",
              "          element.appendChild(docLink);\n",
              "        }\n",
              "      </script>\n",
              "    </div>\n",
              "  </div>\n",
              "  "
            ]
          },
          "metadata": {},
          "execution_count": 278
        }
      ],
      "source": [
        "data0 = pd.read_csv('urldata.csv')\n",
        "data0.head()"
      ]
    },
    {
      "cell_type": "code",
      "execution_count": null,
      "metadata": {
        "colab": {
          "base_uri": "https://localhost:8080/",
          "height": 879
        },
        "id": "N9K0yAdAM70w",
        "outputId": "91f8c3ce-6783-4bb4-9ae2-20836a6060a0"
      },
      "outputs": [
        {
          "output_type": "display_data",
          "data": {
            "text/plain": [
              "<Figure size 1080x1080 with 20 Axes>"
            ],
            "image/png": "[encoded data removed]"
          },
          "metadata": {
            "needs_background": "light"
          }
        }
      ],
      "source": [
        "data0.hist(bins = 50,figsize = (15,15))\n",
        "plt.show()"
      ]
    },
    {
      "cell_type": "code",
      "execution_count": null,
      "metadata": {
        "colab": {
          "base_uri": "https://localhost:8080/",
          "height": 364
        },
        "id": "b_HKPelgnmf8",
        "outputId": "b3829a9d-69df-4192-9592-2726ca878810"
      },
      "outputs": [
        {
          "output_type": "execute_result",
          "data": {
            "text/plain": [
              "            Have_IP       Have_At    URL_Length     URL_Depth   Redirection  \\\n",
              "count  10000.000000  10000.000000  10000.000000  10000.000000  10000.000000   \n",
              "mean       0.005500      0.022600      0.773400      3.072000      0.013500   \n",
              "std        0.073961      0.148632      0.418653      2.128631      0.115408   \n",
              "min        0.000000      0.000000      0.000000      0.000000      0.000000   \n",
              "25%        0.000000      0.000000      1.000000      2.000000      0.000000   \n",
              "50%        0.000000      0.000000      1.000000      3.000000      0.000000   \n",
              "75%        0.000000      0.000000      1.000000      4.000000      0.000000   \n",
              "max        1.000000      1.000000      1.000000     20.000000      1.000000   \n",
              "\n",
              "       https_Domain       TinyURL  Prefix/Suffix    DNS_Record   Web_Traffic  \\\n",
              "count  10000.000000  10000.000000   10000.000000  10000.000000  10000.000000   \n",
              "mean       0.000200      0.090300       0.093200      0.100800      0.845700   \n",
              "std        0.014141      0.286625       0.290727      0.301079      0.361254   \n",
              "min        0.000000      0.000000       0.000000      0.000000      0.000000   \n",
              "25%        0.000000      0.000000       0.000000      0.000000      1.000000   \n",
              "50%        0.000000      0.000000       0.000000      0.000000      1.000000   \n",
              "75%        0.000000      0.000000       0.000000      0.000000      1.000000   \n",
              "max        1.000000      1.000000       1.000000      1.000000      1.000000   \n",
              "\n",
              "         Domain_Age  Domain_End        iFrame   Mouse_Over  Right_Click  \\\n",
              "count  10000.000000  10000.0000  10000.000000  10000.00000  10000.00000   \n",
              "mean       0.413700      0.8099      0.090900      0.06660      0.99930   \n",
              "std        0.492521      0.3924      0.287481      0.24934      0.02645   \n",
              "min        0.000000      0.0000      0.000000      0.00000      0.00000   \n",
              "25%        0.000000      1.0000      0.000000      0.00000      1.00000   \n",
              "50%        0.000000      1.0000      0.000000      0.00000      1.00000   \n",
              "75%        1.000000      1.0000      0.000000      0.00000      1.00000   \n",
              "max        1.000000      1.0000      1.000000      1.00000      1.00000   \n",
              "\n",
              "       Web_Forwards         Label  \n",
              "count  10000.000000  10000.000000  \n",
              "mean       0.105300      0.500000  \n",
              "std        0.306955      0.500025  \n",
              "min        0.000000      0.000000  \n",
              "25%        0.000000      0.000000  \n",
              "50%        0.000000      0.500000  \n",
              "75%        0.000000      1.000000  \n",
              "max        1.000000      1.000000  "
            ],
            "text/html": [
              "\n",
              "  <div id=\"df-0b18733c-05ba-40a6-9364-44fc442446e7\">\n",
              "    <div class=\"colab-df-container\">\n",
              "      <div>\n",
              "<style scoped>\n",
              "    .dataframe tbody tr th:only-of-type {\n",
              "        vertical-align: middle;\n",
              "    }\n",
              "\n",
              "    .dataframe tbody tr th {\n",
              "        vertical-align: top;\n",
              "    }\n",
              "\n",
              "    .dataframe thead th {\n",
              "        text-align: right;\n",
              "    }\n",
              "</style>\n",
              "<table border=\"1\" class=\"dataframe\">\n",
              "  <thead>\n",
              "    <tr style=\"text-align: right;\">\n",
              "      <th></th>\n",
              "      <th>Have_IP</th>\n",
              "      <th>Have_At</th>\n",
              "      <th>URL_Length</th>\n",
              "      <th>URL_Depth</th>\n",
              "      <th>Redirection</th>\n",
              "      <th>https_Domain</th>\n",
              "      <th>TinyURL</th>\n",
              "      <th>Prefix/Suffix</th>\n",
              "      <th>DNS_Record</th>\n",
              "      <th>Web_Traffic</th>\n",
              "      <th>Domain_Age</th>\n",
              "      <th>Domain_End</th>\n",
              "      <th>iFrame</th>\n",
              "      <th>Mouse_Over</th>\n",
              "      <th>Right_Click</th>\n",
              "      <th>Web_Forwards</th>\n",
              "      <th>Label</th>\n",
              "    </tr>\n",
              "  </thead>\n",
              "  <tbody>\n",
              "    <tr>\n",
              "      <th>count</th>\n",
              "      <td>10000.000000</td>\n",
              "      <td>10000.000000</td>\n",
              "      <td>10000.000000</td>\n",
              "      <td>10000.000000</td>\n",
              "      <td>10000.000000</td>\n",
              "      <td>10000.000000</td>\n",
              "      <td>10000.000000</td>\n",
              "      <td>10000.000000</td>\n",
              "      <td>10000.000000</td>\n",
              "      <td>10000.000000</td>\n",
              "      <td>10000.000000</td>\n",
              "      <td>10000.0000</td>\n",
              "      <td>10000.000000</td>\n",
              "      <td>10000.00000</td>\n",
              "      <td>10000.00000</td>\n",
              "      <td>10000.000000</td>\n",
              "      <td>10000.000000</td>\n",
              "    </tr>\n",
              "    <tr>\n",
              "      <th>mean</th>\n",
              "      <td>0.005500</td>\n",
              "      <td>0.022600</td>\n",
              "      <td>0.773400</td>\n",
              "      <td>3.072000</td>\n",
              "      <td>0.013500</td>\n",
              "      <td>0.000200</td>\n",
              "      <td>0.090300</td>\n",
              "      <td>0.093200</td>\n",
              "      <td>0.100800</td>\n",
              "      <td>0.845700</td>\n",
              "      <td>0.413700</td>\n",
              "      <td>0.8099</td>\n",
              "      <td>0.090900</td>\n",
              "      <td>0.06660</td>\n",
              "      <td>0.99930</td>\n",
              "      <td>0.105300</td>\n",
              "      <td>0.500000</td>\n",
              "    </tr>\n",
              "    <tr>\n",
              "      <th>std</th>\n",
              "      <td>0.073961</td>\n",
              "      <td>0.148632</td>\n",
              "      <td>0.418653</td>\n",
              "      <td>2.128631</td>\n",
              "      <td>0.115408</td>\n",
              "      <td>0.014141</td>\n",
              "      <td>0.286625</td>\n",
              "      <td>0.290727</td>\n",
              "      <td>0.301079</td>\n",
              "      <td>0.361254</td>\n",
              "      <td>0.492521</td>\n",
              "      <td>0.3924</td>\n",
              "      <td>0.287481</td>\n",
              "      <td>0.24934</td>\n",
              "      <td>0.02645</td>\n",
              "      <td>0.306955</td>\n",
              "      <td>0.500025</td>\n",
              "    </tr>\n",
              "    <tr>\n",
              "      <th>min</th>\n",
              "      <td>0.000000</td>\n",
              "      <td>0.000000</td>\n",
              "      <td>0.000000</td>\n",
              "      <td>0.000000</td>\n",
              "      <td>0.000000</td>\n",
              "      <td>0.000000</td>\n",
              "      <td>0.000000</td>\n",
              "      <td>0.000000</td>\n",
              "      <td>0.000000</td>\n",
              "      <td>0.000000</td>\n",
              "      <td>0.000000</td>\n",
              "      <td>0.0000</td>\n",
              "      <td>0.000000</td>\n",
              "      <td>0.00000</td>\n",
              "      <td>0.00000</td>\n",
              "      <td>0.000000</td>\n",
              "      <td>0.000000</td>\n",
              "    </tr>\n",
              "    <tr>\n",
              "      <th>25%</th>\n",
              "      <td>0.000000</td>\n",
              "      <td>0.000000</td>\n",
              "      <td>1.000000</td>\n",
              "      <td>2.000000</td>\n",
              "      <td>0.000000</td>\n",
              "      <td>0.000000</td>\n",
              "      <td>0.000000</td>\n",
              "      <td>0.000000</td>\n",
              "      <td>0.000000</td>\n",
              "      <td>1.000000</td>\n",
              "      <td>0.000000</td>\n",
              "      <td>1.0000</td>\n",
              "      <td>0.000000</td>\n",
              "      <td>0.00000</td>\n",
              "      <td>1.00000</td>\n",
              "      <td>0.000000</td>\n",
              "      <td>0.000000</td>\n",
              "    </tr>\n",
              "    <tr>\n",
              "      <th>50%</th>\n",
              "      <td>0.000000</td>\n",
              "      <td>0.000000</td>\n",
              "      <td>1.000000</td>\n",
              "      <td>3.000000</td>\n",
              "      <td>0.000000</td>\n",
              "      <td>0.000000</td>\n",
              "      <td>0.000000</td>\n",
              "      <td>0.000000</td>\n",
              "      <td>0.000000</td>\n",
              "      <td>1.000000</td>\n",
              "      <td>0.000000</td>\n",
              "      <td>1.0000</td>\n",
              "      <td>0.000000</td>\n",
              "      <td>0.00000</td>\n",
              "      <td>1.00000</td>\n",
              "      <td>0.000000</td>\n",
              "      <td>0.500000</td>\n",
              "    </tr>\n",
              "    <tr>\n",
              "      <th>75%</th>\n",
              "      <td>0.000000</td>\n",
              "      <td>0.000000</td>\n",
              "      <td>1.000000</td>\n",
              "      <td>4.000000</td>\n",
              "      <td>0.000000</td>\n",
              "      <td>0.000000</td>\n",
              "      <td>0.000000</td>\n",
              "      <td>0.000000</td>\n",
              "      <td>0.000000</td>\n",
              "      <td>1.000000</td>\n",
              "      <td>1.000000</td>\n",
              "      <td>1.0000</td>\n",
              "      <td>0.000000</td>\n",
              "      <td>0.00000</td>\n",
              "      <td>1.00000</td>\n",
              "      <td>0.000000</td>\n",
              "      <td>1.000000</td>\n",
              "    </tr>\n",
              "    <tr>\n",
              "      <th>max</th>\n",
              "      <td>1.000000</td>\n",
              "      <td>1.000000</td>\n",
              "      <td>1.000000</td>\n",
              "      <td>20.000000</td>\n",
              "      <td>1.000000</td>\n",
              "      <td>1.000000</td>\n",
              "      <td>1.000000</td>\n",
              "      <td>1.000000</td>\n",
              "      <td>1.000000</td>\n",
              "      <td>1.000000</td>\n",
              "      <td>1.000000</td>\n",
              "      <td>1.0000</td>\n",
              "      <td>1.000000</td>\n",
              "      <td>1.00000</td>\n",
              "      <td>1.00000</td>\n",
              "      <td>1.000000</td>\n",
              "      <td>1.000000</td>\n",
              "    </tr>\n",
              "  </tbody>\n",
              "</table>\n",
              "</div>\n",
              "      <button class=\"colab-df-convert\" onclick=\"convertToInteractive('df-0b18733c-05ba-40a6-9364-44fc442446e7')\"\n",
              "              title=\"Convert this dataframe to an interactive table.\"\n",
              "              style=\"display:none;\">\n",
              "        \n",
              "  <svg xmlns=\"http://www.w3.org/2000/svg\" height=\"24px\"viewBox=\"0 0 24 24\"\n",
              "       width=\"24px\">\n",
              "    <path d=\"M0 0h24v24H0V0z\" fill=\"none\"/>\n",
              "    <path d=\"M18.56 5.44l.94 2.06.94-2.06 2.06-.94-2.06-.94-.94-2.06-.94 2.06-2.06.94zm-11 1L8.5 8.5l.94-2.06 2.06-.94-2.06-.94L8.5 2.5l-.94 2.06-2.06.94zm10 10l.94 2.06.94-2.06 2.06-.94-2.06-.94-.94-2.06-.94 2.06-2.06.94z\"/><path d=\"M17.41 7.96l-1.37-1.37c-.4-.4-.92-.59-1.43-.59-.52 0-1.04.2-1.43.59L10.3 9.45l-7.72 7.72c-.78.78-.78 2.05 0 2.83L4 21.41c.39.39.9.59 1.41.59.51 0 1.02-.2 1.41-.59l7.78-7.78 2.81-2.81c.8-.78.8-2.07 0-2.86zM5.41 20L4 18.59l7.72-7.72 1.47 1.35L5.41 20z\"/>\n",
              "  </svg>\n",
              "      </button>\n",
              "      \n",
              "  <style>\n",
              "    .colab-df-container {\n",
              "      display:flex;\n",
              "      flex-wrap:wrap;\n",
              "      gap: 12px;\n",
              "    }\n",
              "\n",
              "    .colab-df-convert {\n",
              "      background-color: #E8F0FE;\n",
              "      border: none;\n",
              "      border-radius: 50%;\n",
              "      cursor: pointer;\n",
              "      display: none;\n",
              "      fill: #1967D2;\n",
              "      height: 32px;\n",
              "      padding: 0 0 0 0;\n",
              "      width: 32px;\n",
              "    }\n",
              "\n",
              "    .colab-df-convert:hover {\n",
              "      background-color: #E2EBFA;\n",
              "      box-shadow: 0px 1px 2px rgba(60, 64, 67, 0.3), 0px 1px 3px 1px rgba(60, 64, 67, 0.15);\n",
              "      fill: #174EA6;\n",
              "    }\n",
              "\n",
              "    [theme=dark] .colab-df-convert {\n",
              "      background-color: #3B4455;\n",
              "      fill: #D2E3FC;\n",
              "    }\n",
              "\n",
              "    [theme=dark] .colab-df-convert:hover {\n",
              "      background-color: #434B5C;\n",
              "      box-shadow: 0px 1px 3px 1px rgba(0, 0, 0, 0.15);\n",
              "      filter: drop-shadow(0px 1px 2px rgba(0, 0, 0, 0.3));\n",
              "      fill: #FFFFFF;\n",
              "    }\n",
              "  </style>\n",
              "\n",
              "      <script>\n",
              "        const buttonEl =\n",
              "          document.querySelector('#df-0b18733c-05ba-40a6-9364-44fc442446e7 button.colab-df-convert');\n",
              "        buttonEl.style.display =\n",
              "          google.colab.kernel.accessAllowed ? 'block' : 'none';\n",
              "\n",
              "        async function convertToInteractive(key) {\n",
              "          const element = document.querySelector('#df-0b18733c-05ba-40a6-9364-44fc442446e7');\n",
              "          const dataTable =\n",
              "            await google.colab.kernel.invokeFunction('convertToInteractive',\n",
              "                                                     [key], {});\n",
              "          if (!dataTable) return;\n",
              "\n",
              "          const docLinkHtml = 'Like what you see? Visit the ' +\n",
              "            '<a target=\"_blank\" href=https://colab.research.google.com/notebooks/data_table.ipynb>data table notebook</a>'\n",
              "            + ' to learn more about interactive tables.';\n",
              "          element.innerHTML = '';\n",
              "          dataTable['output_type'] = 'display_data';\n",
              "          await google.colab.output.renderOutput(dataTable, element);\n",
              "          const docLink = document.createElement('div');\n",
              "          docLink.innerHTML = docLinkHtml;\n",
              "          element.appendChild(docLink);\n",
              "        }\n",
              "      </script>\n",
              "    </div>\n",
              "  </div>\n",
              "  "
            ]
          },
          "metadata": {},
          "execution_count": 284
        }
      ],
      "source": [
        "data0.describe()"
      ]
    },
    {
      "cell_type": "code",
      "execution_count": null,
      "metadata": {
        "id": "tdpRw0Bcn_K1"
      },
      "outputs": [],
      "source": [
        "data = data0.drop(['Domain'], axis = 1).copy()"
      ]
    },
    {
      "cell_type": "code",
      "execution_count": null,
      "metadata": {
        "colab": {
          "base_uri": "https://localhost:8080/",
          "height": 270
        },
        "id": "4LZnaoU_qBsz",
        "outputId": "0f09f236-d80e-41e2-a89a-b94cc2f50e96"
      },
      "outputs": [
        {
          "output_type": "execute_result",
          "data": {
            "text/plain": [
              "   Have_IP  Have_At  URL_Length  URL_Depth  Redirection  https_Domain  \\\n",
              "0        0        0           0          0            0             0   \n",
              "1        0        0           1          2            0             0   \n",
              "2        0        0           0          2            0             0   \n",
              "3        0        0           1          2            0             0   \n",
              "4        0        0           0          0            0             0   \n",
              "\n",
              "   TinyURL  Prefix/Suffix  DNS_Record  Web_Traffic  Domain_Age  Domain_End  \\\n",
              "0        0              1           0            1           0           1   \n",
              "1        0              0           0            1           0           1   \n",
              "2        0              0           0            1           0           1   \n",
              "3        0              0           1            1           1           1   \n",
              "4        0              0           0            1           0           0   \n",
              "\n",
              "   iFrame  Mouse_Over  Right_Click  Web_Forwards  Label  \n",
              "0       0           0            1             0      1  \n",
              "1       0           0            1             0      1  \n",
              "2       0           0            1             0      1  \n",
              "3       0           0            1             0      1  \n",
              "4       0           0            1             0      1  "
            ],
            "text/html": [
              "\n",
              "  <div id=\"df-a90c1da1-c8a5-49ab-b6a4-f92fae358af0\">\n",
              "    <div class=\"colab-df-container\">\n",
              "      <div>\n",
              "<style scoped>\n",
              "    .dataframe tbody tr th:only-of-type {\n",
              "        vertical-align: middle;\n",
              "    }\n",
              "\n",
              "    .dataframe tbody tr th {\n",
              "        vertical-align: top;\n",
              "    }\n",
              "\n",
              "    .dataframe thead th {\n",
              "        text-align: right;\n",
              "    }\n",
              "</style>\n",
              "<table border=\"1\" class=\"dataframe\">\n",
              "  <thead>\n",
              "    <tr style=\"text-align: right;\">\n",
              "      <th></th>\n",
              "      <th>Have_IP</th>\n",
              "      <th>Have_At</th>\n",
              "      <th>URL_Length</th>\n",
              "      <th>URL_Depth</th>\n",
              "      <th>Redirection</th>\n",
              "      <th>https_Domain</th>\n",
              "      <th>TinyURL</th>\n",
              "      <th>Prefix/Suffix</th>\n",
              "      <th>DNS_Record</th>\n",
              "      <th>Web_Traffic</th>\n",
              "      <th>Domain_Age</th>\n",
              "      <th>Domain_End</th>\n",
              "      <th>iFrame</th>\n",
              "      <th>Mouse_Over</th>\n",
              "      <th>Right_Click</th>\n",
              "      <th>Web_Forwards</th>\n",
              "      <th>Label</th>\n",
              "    </tr>\n",
              "  </thead>\n",
              "  <tbody>\n",
              "    <tr>\n",
              "      <th>0</th>\n",
              "      <td>0</td>\n",
              "      <td>0</td>\n",
              "      <td>0</td>\n",
              "      <td>0</td>\n",
              "      <td>0</td>\n",
              "      <td>0</td>\n",
              "      <td>0</td>\n",
              "      <td>1</td>\n",
              "      <td>0</td>\n",
              "      <td>1</td>\n",
              "      <td>0</td>\n",
              "      <td>1</td>\n",
              "      <td>0</td>\n",
              "      <td>0</td>\n",
              "      <td>1</td>\n",
              "      <td>0</td>\n",
              "      <td>1</td>\n",
              "    </tr>\n",
              "    <tr>\n",
              "      <th>1</th>\n",
              "      <td>0</td>\n",
              "      <td>0</td>\n",
              "      <td>1</td>\n",
              "      <td>2</td>\n",
              "      <td>0</td>\n",
              "      <td>0</td>\n",
              "      <td>0</td>\n",
              "      <td>0</td>\n",
              "      <td>0</td>\n",
              "      <td>1</td>\n",
              "      <td>0</td>\n",
              "      <td>1</td>\n",
              "      <td>0</td>\n",
              "      <td>0</td>\n",
              "      <td>1</td>\n",
              "      <td>0</td>\n",
              "      <td>1</td>\n",
              "    </tr>\n",
              "    <tr>\n",
              "      <th>2</th>\n",
              "      <td>0</td>\n",
              "      <td>0</td>\n",
              "      <td>0</td>\n",
              "      <td>2</td>\n",
              "      <td>0</td>\n",
              "      <td>0</td>\n",
              "      <td>0</td>\n",
              "      <td>0</td>\n",
              "      <td>0</td>\n",
              "      <td>1</td>\n",
              "      <td>0</td>\n",
              "      <td>1</td>\n",
              "      <td>0</td>\n",
              "      <td>0</td>\n",
              "      <td>1</td>\n",
              "      <td>0</td>\n",
              "      <td>1</td>\n",
              "    </tr>\n",
              "    <tr>\n",
              "      <th>3</th>\n",
              "      <td>0</td>\n",
              "      <td>0</td>\n",
              "      <td>1</td>\n",
              "      <td>2</td>\n",
              "      <td>0</td>\n",
              "      <td>0</td>\n",
              "      <td>0</td>\n",
              "      <td>0</td>\n",
              "      <td>1</td>\n",
              "      <td>1</td>\n",
              "      <td>1</td>\n",
              "      <td>1</td>\n",
              "      <td>0</td>\n",
              "      <td>0</td>\n",
              "      <td>1</td>\n",
              "      <td>0</td>\n",
              "      <td>1</td>\n",
              "    </tr>\n",
              "    <tr>\n",
              "      <th>4</th>\n",
              "      <td>0</td>\n",
              "      <td>0</td>\n",
              "      <td>0</td>\n",
              "      <td>0</td>\n",
              "      <td>0</td>\n",
              "      <td>0</td>\n",
              "      <td>0</td>\n",
              "      <td>0</td>\n",
              "      <td>0</td>\n",
              "      <td>1</td>\n",
              "      <td>0</td>\n",
              "      <td>0</td>\n",
              "      <td>0</td>\n",
              "      <td>0</td>\n",
              "      <td>1</td>\n",
              "      <td>0</td>\n",
              "      <td>1</td>\n",
              "    </tr>\n",
              "  </tbody>\n",
              "</table>\n",
              "</div>\n",
              "      <button class=\"colab-df-convert\" onclick=\"convertToInteractive('df-a90c1da1-c8a5-49ab-b6a4-f92fae358af0')\"\n",
              "              title=\"Convert this dataframe to an interactive table.\"\n",
              "              style=\"display:none;\">\n",
              "        \n",
              "  <svg xmlns=\"http://www.w3.org/2000/svg\" height=\"24px\"viewBox=\"0 0 24 24\"\n",
              "       width=\"24px\">\n",
              "    <path d=\"M0 0h24v24H0V0z\" fill=\"none\"/>\n",
              "    <path d=\"M18.56 5.44l.94 2.06.94-2.06 2.06-.94-2.06-.94-.94-2.06-.94 2.06-2.06.94zm-11 1L8.5 8.5l.94-2.06 2.06-.94-2.06-.94L8.5 2.5l-.94 2.06-2.06.94zm10 10l.94 2.06.94-2.06 2.06-.94-2.06-.94-.94-2.06-.94 2.06-2.06.94z\"/><path d=\"M17.41 7.96l-1.37-1.37c-.4-.4-.92-.59-1.43-.59-.52 0-1.04.2-1.43.59L10.3 9.45l-7.72 7.72c-.78.78-.78 2.05 0 2.83L4 21.41c.39.39.9.59 1.41.59.51 0 1.02-.2 1.41-.59l7.78-7.78 2.81-2.81c.8-.78.8-2.07 0-2.86zM5.41 20L4 18.59l7.72-7.72 1.47 1.35L5.41 20z\"/>\n",
              "  </svg>\n",
              "      </button>\n",
              "      \n",
              "  <style>\n",
              "    .colab-df-container {\n",
              "      display:flex;\n",
              "      flex-wrap:wrap;\n",
              "      gap: 12px;\n",
              "    }\n",
              "\n",
              "    .colab-df-convert {\n",
              "      background-color: #E8F0FE;\n",
              "      border: none;\n",
              "      border-radius: 50%;\n",
              "      cursor: pointer;\n",
              "      display: none;\n",
              "      fill: #1967D2;\n",
              "      height: 32px;\n",
              "      padding: 0 0 0 0;\n",
              "      width: 32px;\n",
              "    }\n",
              "\n",
              "    .colab-df-convert:hover {\n",
              "      background-color: #E2EBFA;\n",
              "      box-shadow: 0px 1px 2px rgba(60, 64, 67, 0.3), 0px 1px 3px 1px rgba(60, 64, 67, 0.15);\n",
              "      fill: #174EA6;\n",
              "    }\n",
              "\n",
              "    [theme=dark] .colab-df-convert {\n",
              "      background-color: #3B4455;\n",
              "      fill: #D2E3FC;\n",
              "    }\n",
              "\n",
              "    [theme=dark] .colab-df-convert:hover {\n",
              "      background-color: #434B5C;\n",
              "      box-shadow: 0px 1px 3px 1px rgba(0, 0, 0, 0.15);\n",
              "      filter: drop-shadow(0px 1px 2px rgba(0, 0, 0, 0.3));\n",
              "      fill: #FFFFFF;\n",
              "    }\n",
              "  </style>\n",
              "\n",
              "      <script>\n",
              "        const buttonEl =\n",
              "          document.querySelector('#df-a90c1da1-c8a5-49ab-b6a4-f92fae358af0 button.colab-df-convert');\n",
              "        buttonEl.style.display =\n",
              "          google.colab.kernel.accessAllowed ? 'block' : 'none';\n",
              "\n",
              "        async function convertToInteractive(key) {\n",
              "          const element = document.querySelector('#df-a90c1da1-c8a5-49ab-b6a4-f92fae358af0');\n",
              "          const dataTable =\n",
              "            await google.colab.kernel.invokeFunction('convertToInteractive',\n",
              "                                                     [key], {});\n",
              "          if (!dataTable) return;\n",
              "\n",
              "          const docLinkHtml = 'Like what you see? Visit the ' +\n",
              "            '<a target=\"_blank\" href=https://colab.research.google.com/notebooks/data_table.ipynb>data table notebook</a>'\n",
              "            + ' to learn more about interactive tables.';\n",
              "          element.innerHTML = '';\n",
              "          dataTable['output_type'] = 'display_data';\n",
              "          await google.colab.output.renderOutput(dataTable, element);\n",
              "          const docLink = document.createElement('div');\n",
              "          docLink.innerHTML = docLinkHtml;\n",
              "          element.appendChild(docLink);\n",
              "        }\n",
              "      </script>\n",
              "    </div>\n",
              "  </div>\n",
              "  "
            ]
          },
          "metadata": {},
          "execution_count": 287
        }
      ],
      "source": [
        "# shuffling the rows in the dataset so that when splitting the train and test set are equally distributed\n",
        "data = data.sample(frac=1).reset_index(drop=True)\n",
        "data.head()"
      ]
    },
    {
      "cell_type": "code",
      "execution_count": null,
      "metadata": {
        "colab": {
          "base_uri": "https://localhost:8080/"
        },
        "id": "FzEU-wcLN8K7",
        "outputId": "40e4e964-1afa-4eca-a274-594afb01accc"
      },
      "outputs": [
        {
          "output_type": "execute_result",
          "data": {
            "text/plain": [
              "((10000, 16), (10000,))"
            ]
          },
          "metadata": {},
          "execution_count": 288
        }
      ],
      "source": [
        "# Sepratating & assigning features and target columns to X & y\n",
        "y = data['Label']\n",
        "X = data.drop('Label',axis=1)\n",
        "X.shape, y.shape"
      ]
    },
    {
      "cell_type": "code",
      "execution_count": null,
      "metadata": {
        "colab": {
          "base_uri": "https://localhost:8080/"
        },
        "id": "84xKobSqAV3U",
        "outputId": "8bf7d1cf-fddb-469a-f1c2-23a9498375a7"
      },
      "outputs": [
        {
          "output_type": "execute_result",
          "data": {
            "text/plain": [
              "((8000, 16), (2000, 16))"
            ]
          },
          "metadata": {},
          "execution_count": 289
        }
      ],
      "source": [
        "# Splitting the dataset into train and test sets: 80-20 split\n",
        "from sklearn.model_selection import train_test_split\n",
        "\n",
        "X_train, X_test, y_train, y_test = train_test_split(X, y,test_size = 0.2, random_state = 12)\n",
        "X_train.shape, X_test.shape"
      ]
    },
    {
      "cell_type": "markdown",
      "metadata": {
        "id": "ah9B035xOjs1"
      },
      "source": [
        "\n",
        "* Random Forest\n",
        "* Multilayer Perceptrons\n",
        "* XGBoost\n",
        "* Support Vector Machines"
      ]
    },
    {
      "cell_type": "code",
      "execution_count": null,
      "metadata": {
        "id": "D5Tg_ei0-xPU"
      },
      "outputs": [],
      "source": [
        "from sklearn.metrics import accuracy_score"
      ]
    },
    {
      "cell_type": "code",
      "execution_count": null,
      "metadata": {
        "id": "DPBHdBikSXHv"
      },
      "outputs": [],
      "source": [
        "ML_Model = []\n",
        "precision_train = []\n",
        "recall_train = []\n",
        "f1_train = []\n",
        "log_loss_train = []\n",
        "roc_auc_train = []\n",
        "precision_test= []\n",
        "recall_test = []\n",
        "f1_test = []\n",
        "log_loss_test = []\n",
        "roc_auc_test = []\n",
        "\n",
        "def storeResults(model, pt,rt,ft,lt,rat,ptt,rtt,ftt,ltt,ratt):\n",
        "  ML_Model.append(model)\n",
        "  precision_train.append(round(pt, 3))\n",
        "  recall_train.append(round(rt, 3))\n",
        "  f1_train.append(round(ft, 3))\n",
        "  log_loss_train.append(round(lt, 3))\n",
        "  roc_auc_train.append(round(rat, 3))\n",
        "  precision_test.append(round(ptt, 3))\n",
        "  recall_test.append(round(rtt, 3))\n",
        "  f1_test.append(round(ftt, 3))\n",
        "  log_loss_test.append(round(ltt, 3))\n",
        "  roc_auc_test.append(round(ratt, 3))\n"
      ]
    },
    {
      "cell_type": "code",
      "execution_count": null,
      "metadata": {
        "colab": {
          "base_uri": "https://localhost:8080/"
        },
        "id": "2fmB9rPSsR6y",
        "outputId": "8f035b5e-8e30-4afd-e31b-7fd1c42d6127"
      },
      "outputs": [
        {
          "output_type": "execute_result",
          "data": {
            "text/plain": [
              "RandomForestClassifier(max_depth=5)"
            ]
          },
          "metadata": {},
          "execution_count": 292
        }
      ],
      "source": [
        "from sklearn.ensemble import RandomForestClassifier\n",
        "forest = RandomForestClassifier(max_depth=5)\n",
        "forest.fit(X_train, y_train)"
      ]
    },
    {
      "cell_type": "code",
      "execution_count": null,
      "metadata": {
        "id": "J1Qck-wrsabB"
      },
      "outputs": [],
      "source": [
        "y_test_forest = forest.predict(X_test)\n",
        "y_train_forest = forest.predict(X_train)"
      ]
    },
    {
      "cell_type": "code",
      "execution_count": null,
      "metadata": {
        "id": "Oguf-37tsboO"
      },
      "outputs": [],
      "source": [
        "from sklearn.metrics import precision_score,recall_score,f1_score,log_loss,roc_auc_score\n",
        "a1=precision_score(y_train,y_train_forest)\n",
        "b1=recall_score(y_train,y_train_forest)\n",
        "c1=f1_score(y_train,y_train_forest)\n",
        "d1=log_loss(y_train,y_train_forest)\n",
        "e1=roc_auc_score(y_train,y_train_forest)\n",
        "f1=precision_score(y_test,y_test_forest)\n",
        "g1=recall_score(y_test,y_test_forest)\n",
        "h1=f1_score(y_test,y_test_forest)\n",
        "i1=log_loss(y_test,y_test_forest)\n",
        "j1=roc_auc_score(y_test,y_test_forest)"
      ]
    },
    {
      "cell_type": "code",
      "execution_count": null,
      "metadata": {
        "colab": {
          "base_uri": "https://localhost:8080/",
          "height": 442
        },
        "id": "m9GZGxvZ9jnB",
        "outputId": "0f9ab8fd-0d58-45b3-9cc4-628a8c81c9bc"
      },
      "outputs": [
        {
          "output_type": "display_data",
          "data": {
            "text/plain": [
              "<Figure size 648x504 with 1 Axes>"
            ],
            "image/png": "[encoded data removed]"
          },
          "metadata": {
            "needs_background": "light"
          }
        }
      ],
      "source": [
        "plt.figure(figsize=(9,7))\n",
        "n_features = X_train.shape[1]\n",
        "plt.barh(range(n_features), forest.feature_importances_, align='center')\n",
        "plt.yticks(np.arange(n_features), X_train.columns)\n",
        "plt.xlabel(\"Feature importance\")\n",
        "plt.ylabel(\"Feature\")\n",
        "plt.show()"
      ]
    },
    {
      "cell_type": "code",
      "execution_count": null,
      "metadata": {
        "id": "YNf4EXHUW-FU"
      },
      "outputs": [],
      "source": [
        "storeResults('Random Forest',a1,b1,c1,d1,e1,f1,g1,h1,i1,j1)"
      ]
    },
    {
      "cell_type": "code",
      "execution_count": null,
      "metadata": {
        "colab": {
          "base_uri": "https://localhost:8080/"
        },
        "id": "VBnV71QowZ07",
        "outputId": "926f8867-da73-482e-bca1-bd5063630b55"
      },
      "outputs": [
        {
          "output_type": "execute_result",
          "data": {
            "text/plain": [
              "SVC(kernel='linear', random_state=12)"
            ]
          },
          "metadata": {},
          "execution_count": 297
        }
      ],
      "source": [
        "from sklearn.svm import SVC\n",
        "svm = SVC(kernel='linear', C=1.0, random_state=12)\n",
        "svm.fit(X_train, y_train)"
      ]
    },
    {
      "cell_type": "code",
      "execution_count": null,
      "metadata": {
        "id": "4Nlrfq-pwZ1G"
      },
      "outputs": [],
      "source": [
        "y_test_svm = svm.predict(X_test)\n",
        "y_train_svm = svm.predict(X_train)"
      ]
    },
    {
      "cell_type": "code",
      "execution_count": null,
      "metadata": {
        "colab": {
          "base_uri": "https://localhost:8080/"
        },
        "id": "1ofewcVHwZ1R",
        "outputId": "c60f26ff-9c49-4b86-8529-5254a35c343b"
      },
      "outputs": [
        {
          "output_type": "stream",
          "name": "stdout",
          "text": [
            "0.943577430972389\n"
          ]
        }
      ],
      "source": [
        "from sklearn.metrics import precision_score,recall_score,f1_score,log_loss,roc_auc_score\n",
        "a2=precision_score(y_train,y_train_svm)\n",
        "b2=recall_score(y_train,y_train_svm)\n",
        "c2=f1_score(y_train,y_train_svm)\n",
        "d2=log_loss(y_train,y_train_svm)\n",
        "e2=roc_auc_score(y_train,y_train_svm)\n",
        "f2=precision_score(y_test,y_test_svm)\n",
        "g2=recall_score(y_test,y_test_svm)\n",
        "h2=f1_score(y_test,y_test_svm)\n",
        "i2=log_loss(y_test,y_test_svm)\n",
        "j2=roc_auc_score(y_test,y_test_svm)"
      ]
    },
    {
      "cell_type": "code",
      "source": [
        "pd.Series(abs(svm.coef_[0]/4), index=X.columns).nlargest(16).plot(kind='barh')"
      ],
      "metadata": {
        "colab": {
          "base_uri": "https://localhost:8080/",
          "height": 282
        },
        "id": "Cj9Mvrmj2EVi",
        "outputId": "91ab3416-a5c7-47d6-912b-a4fd3f6d4626"
      },
      "execution_count": null,
      "outputs": [
        {
          "output_type": "execute_result",
          "data": {
            "text/plain": [
              "<matplotlib.axes._subplots.AxesSubplot at 0x7f558eda0110>"
            ]
          },
          "metadata": {},
          "execution_count": 316
        },
        {
          "output_type": "display_data",
          "data": {
            "text/plain": [
              "<Figure size 432x288 with 1 Axes>"
            ],
            "image/png": "[encoded data removed]"
          },
          "metadata": {
            "needs_background": "light"
          }
        }
      ]
    },
    {
      "cell_type": "code",
      "execution_count": null,
      "metadata": {
        "id": "4ZAc00sUwZ1d"
      },
      "outputs": [],
      "source": [
        "storeResults('SVM',a2,b2,c2,d2,e2,f2,g2,h2,i2,j2)"
      ]
    },
    {
      "cell_type": "code",
      "execution_count": null,
      "metadata": {
        "colab": {
          "base_uri": "https://localhost:8080/"
        },
        "id": "JSFAbsgnAxqv",
        "outputId": "01f56e55-aae7-4ed1-ef76-a43169de6124"
      },
      "outputs": [
        {
          "output_type": "execute_result",
          "data": {
            "text/plain": [
              "MLPClassifier(alpha=0.001, hidden_layer_sizes=[100, 100, 100])"
            ]
          },
          "metadata": {},
          "execution_count": 302
        }
      ],
      "source": [
        "# Multilayer Perceptrons model\n",
        "from sklearn.neural_network import MLPClassifier\n",
        "\n",
        "# instantiate the model\n",
        "mlp = MLPClassifier(alpha=0.001, hidden_layer_sizes=([100,100,100]))\n",
        "\n",
        "# fit the model \n",
        "mlp.fit(X_train, y_train)"
      ]
    },
    {
      "cell_type": "code",
      "execution_count": null,
      "metadata": {
        "id": "gyuSg6w_A4pN"
      },
      "outputs": [],
      "source": [
        "y_test_mlp = mlp.predict(X_test)\n",
        "y_train_mlp = mlp.predict(X_train)"
      ]
    },
    {
      "cell_type": "code",
      "execution_count": null,
      "metadata": {
        "colab": {
          "base_uri": "https://localhost:8080/"
        },
        "id": "z2ndgKQbA64_",
        "outputId": "2d781750-56ec-417c-c9fc-392f96fbecd4"
      },
      "outputs": [
        {
          "output_type": "stream",
          "name": "stdout",
          "text": [
            "0.943577430972389\n"
          ]
        }
      ],
      "source": [
        "from sklearn.metrics import precision_score,recall_score,f1_score,log_loss,roc_auc_score\n",
        "a3=precision_score(y_train,y_train_mlp)\n",
        "b3=recall_score(y_train,y_train_mlp)\n",
        "c3=f1_score(y_train,y_train_mlp)\n",
        "d3=log_loss(y_train,y_train_mlp)\n",
        "e3=roc_auc_score(y_train,y_train_mlp)\n",
        "f3=precision_score(y_test,y_test_mlp)\n",
        "g3=recall_score(y_test,y_test_mlp)\n",
        "h3=f1_score(y_test,y_test_mlp)\n",
        "i3=log_loss(y_test,y_test_mlp)\n",
        "j3=roc_auc_score(y_test,y_test_mlp)"
      ]
    },
    {
      "cell_type": "code",
      "source": [
        "storeResults('Multi-layer percepton',a3,b3,c3,d3,e3,f3,g3,h3,i3,j3)"
      ],
      "metadata": {
        "id": "FOb29lGYF1MI"
      },
      "execution_count": null,
      "outputs": []
    },
    {
      "cell_type": "code",
      "execution_count": null,
      "metadata": {
        "colab": {
          "base_uri": "https://localhost:8080/"
        },
        "id": "oIIQGzxgAREc",
        "outputId": "745642e8-f06a-483c-97e0-2e4500e98175"
      },
      "outputs": [
        {
          "output_type": "execute_result",
          "data": {
            "text/plain": [
              "XGBClassifier(learning_rate=0.4, max_depth=7)"
            ]
          },
          "metadata": {},
          "execution_count": 306
        }
      ],
      "source": [
        "#XGBoost Classification model\n",
        "from xgboost import XGBClassifier\n",
        "# instantiate the model\n",
        "xgb = XGBClassifier(learning_rate=0.4,max_depth=7)\n",
        "#fit the model\n",
        "xgb.fit(X_train, y_train)"
      ]
    },
    {
      "cell_type": "code",
      "execution_count": null,
      "metadata": {
        "id": "_fx9xbzfAUO-"
      },
      "outputs": [],
      "source": [
        "y_test_xgb = xgb.predict(X_test)\n",
        "y_train_xgb = xgb.predict(X_train)"
      ]
    },
    {
      "cell_type": "code",
      "execution_count": null,
      "metadata": {
        "id": "x1NNeI-NaxCA"
      },
      "outputs": [],
      "source": [
        "from sklearn.metrics import precision_score,recall_score,f1_score,log_loss,roc_auc_score\n",
        "a4=precision_score(y_train,y_train_xgb)\n",
        "b4=recall_score(y_train,y_train_xgb)\n",
        "c4=f1_score(y_train,y_train_xgb)\n",
        "d4=log_loss(y_train,y_train_xgb)\n",
        "e4=roc_auc_score(y_train,y_train_xgb)\n",
        "f4=precision_score(y_test,y_test_xgb)\n",
        "g4=recall_score(y_test,y_test_xgb)\n",
        "h4=f1_score(y_test,y_test_xgb)\n",
        "i4=log_loss(y_test,y_test_xgb)\n",
        "j4=roc_auc_score(y_test,y_test_xgb)\n"
      ]
    },
    {
      "cell_type": "code",
      "source": [
        "plt.figure(figsize=(9,7))\n",
        "n_features = X_train.shape[1]\n",
        "plt.barh(range(n_features), xgb.feature_importances_, align='center')\n",
        "plt.yticks(np.arange(n_features), X_train.columns)\n",
        "plt.xlabel(\"Feature importance\")\n",
        "plt.ylabel(\"Feature\")\n",
        "plt.show()"
      ],
      "metadata": {
        "colab": {
          "base_uri": "https://localhost:8080/",
          "height": 442
        },
        "id": "mQdVSoHnBUcd",
        "outputId": "18a431b4-eb5f-42e9-e38e-6cd6ff0dd4e8"
      },
      "execution_count": null,
      "outputs": [
        {
          "output_type": "display_data",
          "data": {
            "text/plain": [
              "<Figure size 648x504 with 1 Axes>"
            ],
            "image/png": "[encoded data removed]"
          },
          "metadata": {
            "needs_background": "light"
          }
        }
      ]
    },
    {
      "cell_type": "code",
      "execution_count": null,
      "metadata": {
        "id": "sFNo8jskaxCS"
      },
      "outputs": [],
      "source": [
        "storeResults('XGboost',a4,b4,c4,d4,e4,f4,g4,h4,i4,j4)"
      ]
    },
    {
      "cell_type": "code",
      "execution_count": null,
      "metadata": {
        "colab": {
          "base_uri": "https://localhost:8080/",
          "height": 291
        },
        "id": "RkOSzcfsv8Xl",
        "outputId": "232fc50a-7048-46ff-9770-dd9d7e041364"
      },
      "outputs": [
        {
          "output_type": "execute_result",
          "data": {
            "text/plain": [
              "                ML Model  Precision_Train  Recall_Train  F1_Score_Train  \\\n",
              "0          Random Forest            0.980         0.643           0.777   \n",
              "1                    SVM            0.967         0.614           0.751   \n",
              "2  Multi-layer percepton            0.928         0.787           0.852   \n",
              "3                XGboost            0.922         0.797           0.855   \n",
              "\n",
              "   Log_loss_Train  Roc_Auc_Train  Precision_Test  Recall_Test  F1_Score_Test  \\\n",
              "0           6.403          0.815           0.971        0.700          0.814   \n",
              "1           7.046          0.796           0.968        0.672          0.793   \n",
              "2           4.745          0.863           0.914        0.814          0.861   \n",
              "3           4.676          0.865           0.904        0.820          0.860   \n",
              "\n",
              "   Log_loss_Test  Roc_Auc_Test  \n",
              "0          5.492         0.840  \n",
              "1          5.992         0.825  \n",
              "2          4.490         0.870  \n",
              "3          4.559         0.868  "
            ],
            "text/html": [
              "\n",
              "  <div id=\"df-4fa9229c-51d4-4ae9-9a8d-0cde42d819d1\">\n",
              "    <div class=\"colab-df-container\">\n",
              "      <div>\n",
              "<style scoped>\n",
              "    .dataframe tbody tr th:only-of-type {\n",
              "        vertical-align: middle;\n",
              "    }\n",
              "\n",
              "    .dataframe tbody tr th {\n",
              "        vertical-align: top;\n",
              "    }\n",
              "\n",
              "    .dataframe thead th {\n",
              "        text-align: right;\n",
              "    }\n",
              "</style>\n",
              "<table border=\"1\" class=\"dataframe\">\n",
              "  <thead>\n",
              "    <tr style=\"text-align: right;\">\n",
              "      <th></th>\n",
              "      <th>ML Model</th>\n",
              "      <th>Precision_Train</th>\n",
              "      <th>Recall_Train</th>\n",
              "      <th>F1_Score_Train</th>\n",
              "      <th>Log_loss_Train</th>\n",
              "      <th>Roc_Auc_Train</th>\n",
              "      <th>Precision_Test</th>\n",
              "      <th>Recall_Test</th>\n",
              "      <th>F1_Score_Test</th>\n",
              "      <th>Log_loss_Test</th>\n",
              "      <th>Roc_Auc_Test</th>\n",
              "    </tr>\n",
              "  </thead>\n",
              "  <tbody>\n",
              "    <tr>\n",
              "      <th>0</th>\n",
              "      <td>Random Forest</td>\n",
              "      <td>0.980</td>\n",
              "      <td>0.643</td>\n",
              "      <td>0.777</td>\n",
              "      <td>6.403</td>\n",
              "      <td>0.815</td>\n",
              "      <td>0.971</td>\n",
              "      <td>0.700</td>\n",
              "      <td>0.814</td>\n",
              "      <td>5.492</td>\n",
              "      <td>0.840</td>\n",
              "    </tr>\n",
              "    <tr>\n",
              "      <th>1</th>\n",
              "      <td>SVM</td>\n",
              "      <td>0.967</td>\n",
              "      <td>0.614</td>\n",
              "      <td>0.751</td>\n",
              "      <td>7.046</td>\n",
              "      <td>0.796</td>\n",
              "      <td>0.968</td>\n",
              "      <td>0.672</td>\n",
              "      <td>0.793</td>\n",
              "      <td>5.992</td>\n",
              "      <td>0.825</td>\n",
              "    </tr>\n",
              "    <tr>\n",
              "      <th>2</th>\n",
              "      <td>Multi-layer percepton</td>\n",
              "      <td>0.928</td>\n",
              "      <td>0.787</td>\n",
              "      <td>0.852</td>\n",
              "      <td>4.745</td>\n",
              "      <td>0.863</td>\n",
              "      <td>0.914</td>\n",
              "      <td>0.814</td>\n",
              "      <td>0.861</td>\n",
              "      <td>4.490</td>\n",
              "      <td>0.870</td>\n",
              "    </tr>\n",
              "    <tr>\n",
              "      <th>3</th>\n",
              "      <td>XGboost</td>\n",
              "      <td>0.922</td>\n",
              "      <td>0.797</td>\n",
              "      <td>0.855</td>\n",
              "      <td>4.676</td>\n",
              "      <td>0.865</td>\n",
              "      <td>0.904</td>\n",
              "      <td>0.820</td>\n",
              "      <td>0.860</td>\n",
              "      <td>4.559</td>\n",
              "      <td>0.868</td>\n",
              "    </tr>\n",
              "  </tbody>\n",
              "</table>\n",
              "</div>\n",
              "      <button class=\"colab-df-convert\" onclick=\"convertToInteractive('df-4fa9229c-51d4-4ae9-9a8d-0cde42d819d1')\"\n",
              "              title=\"Convert this dataframe to an interactive table.\"\n",
              "              style=\"display:none;\">\n",
              "        \n",
              "  <svg xmlns=\"http://www.w3.org/2000/svg\" height=\"24px\"viewBox=\"0 0 24 24\"\n",
              "       width=\"24px\">\n",
              "    <path d=\"M0 0h24v24H0V0z\" fill=\"none\"/>\n",
              "    <path d=\"M18.56 5.44l.94 2.06.94-2.06 2.06-.94-2.06-.94-.94-2.06-.94 2.06-2.06.94zm-11 1L8.5 8.5l.94-2.06 2.06-.94-2.06-.94L8.5 2.5l-.94 2.06-2.06.94zm10 10l.94 2.06.94-2.06 2.06-.94-2.06-.94-.94-2.06-.94 2.06-2.06.94z\"/><path d=\"M17.41 7.96l-1.37-1.37c-.4-.4-.92-.59-1.43-.59-.52 0-1.04.2-1.43.59L10.3 9.45l-7.72 7.72c-.78.78-.78 2.05 0 2.83L4 21.41c.39.39.9.59 1.41.59.51 0 1.02-.2 1.41-.59l7.78-7.78 2.81-2.81c.8-.78.8-2.07 0-2.86zM5.41 20L4 18.59l7.72-7.72 1.47 1.35L5.41 20z\"/>\n",
              "  </svg>\n",
              "      </button>\n",
              "      \n",
              "  <style>\n",
              "    .colab-df-container {\n",
              "      display:flex;\n",
              "      flex-wrap:wrap;\n",
              "      gap: 12px;\n",
              "    }\n",
              "\n",
              "    .colab-df-convert {\n",
              "      background-color: #E8F0FE;\n",
              "      border: none;\n",
              "      border-radius: 50%;\n",
              "      cursor: pointer;\n",
              "      display: none;\n",
              "      fill: #1967D2;\n",
              "      height: 32px;\n",
              "      padding: 0 0 0 0;\n",
              "      width: 32px;\n",
              "    }\n",
              "\n",
              "    .colab-df-convert:hover {\n",
              "      background-color: #E2EBFA;\n",
              "      box-shadow: 0px 1px 2px rgba(60, 64, 67, 0.3), 0px 1px 3px 1px rgba(60, 64, 67, 0.15);\n",
              "      fill: #174EA6;\n",
              "    }\n",
              "\n",
              "    [theme=dark] .colab-df-convert {\n",
              "      background-color: #3B4455;\n",
              "      fill: #D2E3FC;\n",
              "    }\n",
              "\n",
              "    [theme=dark] .colab-df-convert:hover {\n",
              "      background-color: #434B5C;\n",
              "      box-shadow: 0px 1px 3px 1px rgba(0, 0, 0, 0.15);\n",
              "      filter: drop-shadow(0px 1px 2px rgba(0, 0, 0, 0.3));\n",
              "      fill: #FFFFFF;\n",
              "    }\n",
              "  </style>\n",
              "\n",
              "      <script>\n",
              "        const buttonEl =\n",
              "          document.querySelector('#df-4fa9229c-51d4-4ae9-9a8d-0cde42d819d1 button.colab-df-convert');\n",
              "        buttonEl.style.display =\n",
              "          google.colab.kernel.accessAllowed ? 'block' : 'none';\n",
              "\n",
              "        async function convertToInteractive(key) {\n",
              "          const element = document.querySelector('#df-4fa9229c-51d4-4ae9-9a8d-0cde42d819d1');\n",
              "          const dataTable =\n",
              "            await google.colab.kernel.invokeFunction('convertToInteractive',\n",
              "                                                     [key], {});\n",
              "          if (!dataTable) return;\n",
              "\n",
              "          const docLinkHtml = 'Like what you see? Visit the ' +\n",
              "            '<a target=\"_blank\" href=https://colab.research.google.com/notebooks/data_table.ipynb>data table notebook</a>'\n",
              "            + ' to learn more about interactive tables.';\n",
              "          element.innerHTML = '';\n",
              "          dataTable['output_type'] = 'display_data';\n",
              "          await google.colab.output.renderOutput(dataTable, element);\n",
              "          const docLink = document.createElement('div');\n",
              "          docLink.innerHTML = docLinkHtml;\n",
              "          element.appendChild(docLink);\n",
              "        }\n",
              "      </script>\n",
              "    </div>\n",
              "  </div>\n",
              "  "
            ]
          },
          "metadata": {},
          "execution_count": 311
        }
      ],
      "source": [
        "results = pd.DataFrame({ 'ML Model': ML_Model,    \n",
        "    'Precision_Train': precision_train,\n",
        "    'Recall_Train': recall_train ,\n",
        "    'F1_Score_Train': f1_train ,\n",
        "    'Log_loss_Train': log_loss_train,\n",
        "    'Roc_Auc_Train': roc_auc_train ,\n",
        "    'Precision_Test': precision_test,\n",
        "    'Recall_Test': recall_test ,\n",
        "    'F1_Score_Test': f1_test ,\n",
        "    'Log_loss_Test': log_loss_test ,\n",
        "    'Roc_Auc_Test': roc_auc_test })\n",
        "results"
      ]
    },
    {
      "cell_type": "code",
      "execution_count": null,
      "metadata": {
        "colab": {
          "base_uri": "https://localhost:8080/",
          "height": 291
        },
        "id": "eKheGBiHwDfK",
        "outputId": "4a87e98e-3050-479d-e07a-de05ec10522b"
      },
      "outputs": [
        {
          "output_type": "execute_result",
          "data": {
            "text/plain": [
              "                ML Model  Precision_Train  Recall_Train  F1_Score_Train  \\\n",
              "0          Random Forest            0.980         0.643           0.777   \n",
              "1                    SVM            0.967         0.614           0.751   \n",
              "2  Multi-layer percepton            0.928         0.787           0.852   \n",
              "3                XGboost            0.922         0.797           0.855   \n",
              "\n",
              "   Log_loss_Train  Roc_Auc_Train  Precision_Test  Recall_Test  F1_Score_Test  \\\n",
              "0           6.403          0.815           0.971        0.700          0.814   \n",
              "1           7.046          0.796           0.968        0.672          0.793   \n",
              "2           4.745          0.863           0.914        0.814          0.861   \n",
              "3           4.676          0.865           0.904        0.820          0.860   \n",
              "\n",
              "   Log_loss_Test  Roc_Auc_Test  \n",
              "0          5.492         0.840  \n",
              "1          5.992         0.825  \n",
              "2          4.490         0.870  \n",
              "3          4.559         0.868  "
            ],
            "text/html": [
              "\n",
              "  <div id=\"df-e529f11c-ae14-4ac7-9202-fb277cbd46bf\">\n",
              "    <div class=\"colab-df-container\">\n",
              "      <div>\n",
              "<style scoped>\n",
              "    .dataframe tbody tr th:only-of-type {\n",
              "        vertical-align: middle;\n",
              "    }\n",
              "\n",
              "    .dataframe tbody tr th {\n",
              "        vertical-align: top;\n",
              "    }\n",
              "\n",
              "    .dataframe thead th {\n",
              "        text-align: right;\n",
              "    }\n",
              "</style>\n",
              "<table border=\"1\" class=\"dataframe\">\n",
              "  <thead>\n",
              "    <tr style=\"text-align: right;\">\n",
              "      <th></th>\n",
              "      <th>ML Model</th>\n",
              "      <th>Precision_Train</th>\n",
              "      <th>Recall_Train</th>\n",
              "      <th>F1_Score_Train</th>\n",
              "      <th>Log_loss_Train</th>\n",
              "      <th>Roc_Auc_Train</th>\n",
              "      <th>Precision_Test</th>\n",
              "      <th>Recall_Test</th>\n",
              "      <th>F1_Score_Test</th>\n",
              "      <th>Log_loss_Test</th>\n",
              "      <th>Roc_Auc_Test</th>\n",
              "    </tr>\n",
              "  </thead>\n",
              "  <tbody>\n",
              "    <tr>\n",
              "      <th>0</th>\n",
              "      <td>Random Forest</td>\n",
              "      <td>0.980</td>\n",
              "      <td>0.643</td>\n",
              "      <td>0.777</td>\n",
              "      <td>6.403</td>\n",
              "      <td>0.815</td>\n",
              "      <td>0.971</td>\n",
              "      <td>0.700</td>\n",
              "      <td>0.814</td>\n",
              "      <td>5.492</td>\n",
              "      <td>0.840</td>\n",
              "    </tr>\n",
              "    <tr>\n",
              "      <th>1</th>\n",
              "      <td>SVM</td>\n",
              "      <td>0.967</td>\n",
              "      <td>0.614</td>\n",
              "      <td>0.751</td>\n",
              "      <td>7.046</td>\n",
              "      <td>0.796</td>\n",
              "      <td>0.968</td>\n",
              "      <td>0.672</td>\n",
              "      <td>0.793</td>\n",
              "      <td>5.992</td>\n",
              "      <td>0.825</td>\n",
              "    </tr>\n",
              "    <tr>\n",
              "      <th>2</th>\n",
              "      <td>Multi-layer percepton</td>\n",
              "      <td>0.928</td>\n",
              "      <td>0.787</td>\n",
              "      <td>0.852</td>\n",
              "      <td>4.745</td>\n",
              "      <td>0.863</td>\n",
              "      <td>0.914</td>\n",
              "      <td>0.814</td>\n",
              "      <td>0.861</td>\n",
              "      <td>4.490</td>\n",
              "      <td>0.870</td>\n",
              "    </tr>\n",
              "    <tr>\n",
              "      <th>3</th>\n",
              "      <td>XGboost</td>\n",
              "      <td>0.922</td>\n",
              "      <td>0.797</td>\n",
              "      <td>0.855</td>\n",
              "      <td>4.676</td>\n",
              "      <td>0.865</td>\n",
              "      <td>0.904</td>\n",
              "      <td>0.820</td>\n",
              "      <td>0.860</td>\n",
              "      <td>4.559</td>\n",
              "      <td>0.868</td>\n",
              "    </tr>\n",
              "  </tbody>\n",
              "</table>\n",
              "</div>\n",
              "      <button class=\"colab-df-convert\" onclick=\"convertToInteractive('df-e529f11c-ae14-4ac7-9202-fb277cbd46bf')\"\n",
              "              title=\"Convert this dataframe to an interactive table.\"\n",
              "              style=\"display:none;\">\n",
              "        \n",
              "  <svg xmlns=\"http://www.w3.org/2000/svg\" height=\"24px\"viewBox=\"0 0 24 24\"\n",
              "       width=\"24px\">\n",
              "    <path d=\"M0 0h24v24H0V0z\" fill=\"none\"/>\n",
              "    <path d=\"M18.56 5.44l.94 2.06.94-2.06 2.06-.94-2.06-.94-.94-2.06-.94 2.06-2.06.94zm-11 1L8.5 8.5l.94-2.06 2.06-.94-2.06-.94L8.5 2.5l-.94 2.06-2.06.94zm10 10l.94 2.06.94-2.06 2.06-.94-2.06-.94-.94-2.06-.94 2.06-2.06.94z\"/><path d=\"M17.41 7.96l-1.37-1.37c-.4-.4-.92-.59-1.43-.59-.52 0-1.04.2-1.43.59L10.3 9.45l-7.72 7.72c-.78.78-.78 2.05 0 2.83L4 21.41c.39.39.9.59 1.41.59.51 0 1.02-.2 1.41-.59l7.78-7.78 2.81-2.81c.8-.78.8-2.07 0-2.86zM5.41 20L4 18.59l7.72-7.72 1.47 1.35L5.41 20z\"/>\n",
              "  </svg>\n",
              "      </button>\n",
              "      \n",
              "  <style>\n",
              "    .colab-df-container {\n",
              "      display:flex;\n",
              "      flex-wrap:wrap;\n",
              "      gap: 12px;\n",
              "    }\n",
              "\n",
              "    .colab-df-convert {\n",
              "      background-color: #E8F0FE;\n",
              "      border: none;\n",
              "      border-radius: 50%;\n",
              "      cursor: pointer;\n",
              "      display: none;\n",
              "      fill: #1967D2;\n",
              "      height: 32px;\n",
              "      padding: 0 0 0 0;\n",
              "      width: 32px;\n",
              "    }\n",
              "\n",
              "    .colab-df-convert:hover {\n",
              "      background-color: #E2EBFA;\n",
              "      box-shadow: 0px 1px 2px rgba(60, 64, 67, 0.3), 0px 1px 3px 1px rgba(60, 64, 67, 0.15);\n",
              "      fill: #174EA6;\n",
              "    }\n",
              "\n",
              "    [theme=dark] .colab-df-convert {\n",
              "      background-color: #3B4455;\n",
              "      fill: #D2E3FC;\n",
              "    }\n",
              "\n",
              "    [theme=dark] .colab-df-convert:hover {\n",
              "      background-color: #434B5C;\n",
              "      box-shadow: 0px 1px 3px 1px rgba(0, 0, 0, 0.15);\n",
              "      filter: drop-shadow(0px 1px 2px rgba(0, 0, 0, 0.3));\n",
              "      fill: #FFFFFF;\n",
              "    }\n",
              "  </style>\n",
              "\n",
              "      <script>\n",
              "        const buttonEl =\n",
              "          document.querySelector('#df-e529f11c-ae14-4ac7-9202-fb277cbd46bf button.colab-df-convert');\n",
              "        buttonEl.style.display =\n",
              "          google.colab.kernel.accessAllowed ? 'block' : 'none';\n",
              "\n",
              "        async function convertToInteractive(key) {\n",
              "          const element = document.querySelector('#df-e529f11c-ae14-4ac7-9202-fb277cbd46bf');\n",
              "          const dataTable =\n",
              "            await google.colab.kernel.invokeFunction('convertToInteractive',\n",
              "                                                     [key], {});\n",
              "          if (!dataTable) return;\n",
              "\n",
              "          const docLinkHtml = 'Like what you see? Visit the ' +\n",
              "            '<a target=\"_blank\" href=https://colab.research.google.com/notebooks/data_table.ipynb>data table notebook</a>'\n",
              "            + ' to learn more about interactive tables.';\n",
              "          element.innerHTML = '';\n",
              "          dataTable['output_type'] = 'display_data';\n",
              "          await google.colab.output.renderOutput(dataTable, element);\n",
              "          const docLink = document.createElement('div');\n",
              "          docLink.innerHTML = docLinkHtml;\n",
              "          element.appendChild(docLink);\n",
              "        }\n",
              "      </script>\n",
              "    </div>\n",
              "  </div>\n",
              "  "
            ]
          },
          "metadata": {},
          "execution_count": 312
        }
      ],
      "source": [
        "results.sort_values(by=['Precision_Train', 'Recall_Train','F1_Score_Train','Log_loss_Train','Roc_Auc_Train','Precision_Test','Recall_Test','F1_Score_Test','Log_loss_Test','Roc_Auc_Test'], ascending=False)"
      ]
    },
    {
      "cell_type": "code",
      "execution_count": null,
      "metadata": {
        "id": "aCIIkZ7V3AFN"
      },
      "outputs": [],
      "source": [
        "import pickle\n",
        "pickle.dump(xgb, open(\"XGBoostClassifier.pickle.dat\", \"wb\"))"
      ]
    },
    {
      "cell_type": "code",
      "execution_count": null,
      "metadata": {
        "colab": {
          "base_uri": "https://localhost:8080/"
        },
        "id": "-ZEm_PS33QD-",
        "outputId": "bcdd67f6-47f7-4d72-bf49-94f98a18d1a4"
      },
      "outputs": [
        {
          "output_type": "execute_result",
          "data": {
            "text/plain": [
              "XGBClassifier(learning_rate=0.4, max_depth=7, missing=nan)"
            ]
          },
          "metadata": {},
          "execution_count": 314
        }
      ],
      "source": [
        "loaded_model = pickle.load(open(\"XGBoostClassifier.pickle.dat\", \"rb\"))\n",
        "loaded_model"
      ]
    }
  ],
  "metadata": {
    "colab": {
      "collapsed_sections": [],
      "name": "Phishing.ipynb",
      "provenance": []
    },
    "kernelspec": {
      "display_name": "Python 3",
      "name": "python3"
    }
  },
  "nbformat": 4,
  "nbformat_minor": 0
}